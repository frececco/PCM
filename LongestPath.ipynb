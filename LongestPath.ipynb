{
 "cells": [
  {
   "cell_type": "markdown",
   "metadata": {},
   "source": [
    "# COMPUTE THE DURATION OF A PROJECT\n",
    "# A. in a deterministich way (Critical path method)\n",
    "# B. taking into account uncertainty using PERT\n",
    "# C. taking into account uncertainty using MC simulations \n",
    "#\n",
    "# \n",
    "# by Fulvio Re Cecconi\n",
    "# this code is provided under the Creative Commons CC BY license \n",
    "# https://creativecommons.org/licenses/by/4.0/"
   ]
  },
  {
   "cell_type": "code",
   "execution_count": 1,
   "metadata": {},
   "outputs": [],
   "source": [
    "# import needed libraries\n",
    "import pandas as pd\n",
    "import networkx as nx\n",
    "import matplotlib.pyplot as plt\n",
    "import numpy as np\n",
    "import math\n",
    "from collections import Counter\n",
    "from scipy.stats import norm"
   ]
  },
  {
   "cell_type": "markdown",
   "metadata": {},
   "source": [
    "## Deterministic"
   ]
  },
  {
   "cell_type": "code",
   "execution_count": 2,
   "metadata": {},
   "outputs": [
    {
     "data": {
      "text/html": [
       "<div>\n",
       "<style scoped>\n",
       "    .dataframe tbody tr th:only-of-type {\n",
       "        vertical-align: middle;\n",
       "    }\n",
       "\n",
       "    .dataframe tbody tr th {\n",
       "        vertical-align: top;\n",
       "    }\n",
       "\n",
       "    .dataframe thead th {\n",
       "        text-align: right;\n",
       "    }\n",
       "</style>\n",
       "<table border=\"1\" class=\"dataframe\">\n",
       "  <thead>\n",
       "    <tr style=\"text-align: right;\">\n",
       "      <th></th>\n",
       "      <th>source</th>\n",
       "      <th>target</th>\n",
       "      <th>duration</th>\n",
       "    </tr>\n",
       "  </thead>\n",
       "  <tbody>\n",
       "    <tr>\n",
       "      <th>0</th>\n",
       "      <td>A</td>\n",
       "      <td>B</td>\n",
       "      <td>4</td>\n",
       "    </tr>\n",
       "    <tr>\n",
       "      <th>1</th>\n",
       "      <td>A</td>\n",
       "      <td>C</td>\n",
       "      <td>4</td>\n",
       "    </tr>\n",
       "    <tr>\n",
       "      <th>2</th>\n",
       "      <td>B</td>\n",
       "      <td>D</td>\n",
       "      <td>4</td>\n",
       "    </tr>\n",
       "    <tr>\n",
       "      <th>3</th>\n",
       "      <td>C</td>\n",
       "      <td>D</td>\n",
       "      <td>2</td>\n",
       "    </tr>\n",
       "    <tr>\n",
       "      <th>4</th>\n",
       "      <td>D</td>\n",
       "      <td>E</td>\n",
       "      <td>3</td>\n",
       "    </tr>\n",
       "  </tbody>\n",
       "</table>\n",
       "</div>"
      ],
      "text/plain": [
       "  source target  duration\n",
       "0      A      B         4\n",
       "1      A      C         4\n",
       "2      B      D         4\n",
       "3      C      D         2\n",
       "4      D      E         3"
      ]
     },
     "execution_count": 2,
     "metadata": {},
     "output_type": "execute_result"
    }
   ],
   "source": [
    "graph_data = pd.DataFrame([['A','B',4],\n",
    "                           ['A','C',4], \n",
    "                           ['B','D',4], \n",
    "                           ['C','D',2], \n",
    "                           ['D','E',3]])\n",
    "graph_data.columns = ['source', 'target', 'duration']\n",
    "graph_data.head()"
   ]
  },
  {
   "cell_type": "code",
   "execution_count": 3,
   "metadata": {},
   "outputs": [
    {
     "name": "stdout",
     "output_type": "stream",
     "text": [
      "The graph is a directed acyclic graph (DAG).\n",
      "Topological ordering of nodes: ['A', 'B', 'C', 'D', 'E']\n"
     ]
    }
   ],
   "source": [
    "# Create a directed graph from the DataFrame.\n",
    "# The 'duration' column is added as an edge attribute.\n",
    "my_graph = nx.from_pandas_edgelist(\n",
    "    graph_data,\n",
    "    source='source',\n",
    "    target='target',\n",
    "    edge_attr='duration',  # This will be stored as 'duration'\n",
    "    create_using=nx.DiGraph()\n",
    ")\n",
    "\n",
    "# If you prefer to have the edge weight under the key 'weight'\n",
    "for u, v, attr in my_graph.edges(data=True):\n",
    "    attr['weight'] = attr.pop('duration')\n",
    "\n",
    "# Optionally, verify that the graph is acyclic (a DAG)\n",
    "if nx.is_directed_acyclic_graph(my_graph):\n",
    "    print(\"The graph is a directed acyclic graph (DAG).\")\n",
    "else:\n",
    "    print(\"Warning: The graph contains cycles and is not a DAG.\")\n",
    "\n",
    "# You can now use G for further analysis, e.g., topological sorting:\n",
    "try:\n",
    "    topo_order = list(nx.topological_sort(my_graph))\n",
    "    print(\"Topological ordering of nodes:\", topo_order)\n",
    "except nx.NetworkXUnfeasible:\n",
    "    print(\"Graph contains cycles; topological sort is not possible.\")"
   ]
  },
  {
   "cell_type": "code",
   "execution_count": 4,
   "metadata": {},
   "outputs": [
    {
     "data": {
      "image/png": "[encoded data removed]",
      "text/plain": [
       "<Figure size 800x600 with 1 Axes>"
      ]
     },
     "metadata": {},
     "output_type": "display_data"
    }
   ],
   "source": [
    "# Plot the graph with node names as labels.\n",
    "plt.figure(figsize=(8, 6))\n",
    "# Compute a layout for visualization.\n",
    "pos = nx.spring_layout(my_graph)\n",
    "\n",
    "# Draw nodes, edges, and labels.\n",
    "nx.draw(my_graph, pos, with_labels=True, node_color='lightblue', arrows=True, node_size=2000, font_size=10)\n",
    "\n",
    "# Optionally, add edge labels to show weights (duration values)\n",
    "edge_labels = nx.get_edge_attributes(my_graph, 'weight')\n",
    "nx.draw_networkx_edge_labels(my_graph, pos, edge_labels=edge_labels, font_color='red')\n",
    "\n",
    "plt.title(\"My First Directed Acyclic Graph (DAG)\")\n",
    "plt.show()"
   ]
  },
  {
   "cell_type": "code",
   "execution_count": 5,
   "metadata": {},
   "outputs": [
    {
     "name": "stdout",
     "output_type": "stream",
     "text": [
      "Paths from A to E:\n",
      "['A', 'B', 'D', 'E']\n",
      "['A', 'C', 'D', 'E']\n"
     ]
    }
   ],
   "source": [
    "# print all the paths\n",
    "\n",
    "# Identify source nodes (nodes with no incoming edges)\n",
    "sources = [node for node in my_graph.nodes() if my_graph.in_degree(node) == 0]\n",
    "\n",
    "# Identify sink nodes (nodes with no outgoing edges)\n",
    "sinks = [node for node in my_graph.nodes() if my_graph.out_degree(node) == 0]\n",
    "\n",
    "# Iterate over each source and sink combination and print all simple paths\n",
    "for source in sources:\n",
    "    for sink in sinks:\n",
    "        print(f\"Paths from {source} to {sink}:\")\n",
    "        for path in nx.all_simple_paths(my_graph, source=source, target=sink):\n",
    "            print(path)"
   ]
  },
  {
   "cell_type": "code",
   "execution_count": 6,
   "metadata": {},
   "outputs": [
    {
     "name": "stdout",
     "output_type": "stream",
     "text": [
      "Longest path: ['A', 'B', 'D', 'E']\n"
     ]
    }
   ],
   "source": [
    "# print the longest path\n",
    "\n",
    "longest_path = nx.algorithms.dag.dag_longest_path(my_graph, weight='weight')\n",
    "print(\"Longest path:\", longest_path)"
   ]
  },
  {
   "cell_type": "code",
   "execution_count": 7,
   "metadata": {},
   "outputs": [
    {
     "name": "stdout",
     "output_type": "stream",
     "text": [
      "deterministic project duration is 11 months\n"
     ]
    }
   ],
   "source": [
    "# compute the longest path duration\n",
    "print('deterministic project duration is',nx.dag_longest_path_length(my_graph),'months')"
   ]
  },
  {
   "cell_type": "markdown",
   "metadata": {},
   "source": [
    "## PERT"
   ]
  },
  {
   "cell_type": "code",
   "execution_count": 8,
   "metadata": {},
   "outputs": [
    {
     "data": {
      "text/html": [
       "<div>\n",
       "<style scoped>\n",
       "    .dataframe tbody tr th:only-of-type {\n",
       "        vertical-align: middle;\n",
       "    }\n",
       "\n",
       "    .dataframe tbody tr th {\n",
       "        vertical-align: top;\n",
       "    }\n",
       "\n",
       "    .dataframe thead th {\n",
       "        text-align: right;\n",
       "    }\n",
       "</style>\n",
       "<table border=\"1\" class=\"dataframe\">\n",
       "  <thead>\n",
       "    <tr style=\"text-align: right;\">\n",
       "      <th></th>\n",
       "      <th>min_value</th>\n",
       "      <th>mode</th>\n",
       "      <th>max_value</th>\n",
       "    </tr>\n",
       "  </thead>\n",
       "  <tbody>\n",
       "    <tr>\n",
       "      <th>0</th>\n",
       "      <td>3</td>\n",
       "      <td>4</td>\n",
       "      <td>5</td>\n",
       "    </tr>\n",
       "    <tr>\n",
       "      <th>1</th>\n",
       "      <td>2</td>\n",
       "      <td>4</td>\n",
       "      <td>6</td>\n",
       "    </tr>\n",
       "    <tr>\n",
       "      <th>2</th>\n",
       "      <td>3</td>\n",
       "      <td>4</td>\n",
       "      <td>5</td>\n",
       "    </tr>\n",
       "    <tr>\n",
       "      <th>3</th>\n",
       "      <td>1</td>\n",
       "      <td>2</td>\n",
       "      <td>3</td>\n",
       "    </tr>\n",
       "    <tr>\n",
       "      <th>4</th>\n",
       "      <td>1</td>\n",
       "      <td>3</td>\n",
       "      <td>5</td>\n",
       "    </tr>\n",
       "  </tbody>\n",
       "</table>\n",
       "</div>"
      ],
      "text/plain": [
       "   min_value  mode  max_value\n",
       "0          3     4          5\n",
       "1          2     4          6\n",
       "2          3     4          5\n",
       "3          1     2          3\n",
       "4          1     3          5"
      ]
     },
     "execution_count": 8,
     "metadata": {},
     "output_type": "execute_result"
    }
   ],
   "source": [
    "# define uncertainty in input\n",
    "uncertainty = pd.DataFrame([[3,4,5],\n",
    "                            [2,4,6],\n",
    "                            [3,4,5],\n",
    "                            [1,2,3],\n",
    "                            [1,3,5]])\n",
    "uncertainty.columns = ['min_value', 'mode', 'max_value']\n",
    "uncertainty.head()"
   ]
  },
  {
   "cell_type": "code",
   "execution_count": 9,
   "metadata": {},
   "outputs": [
    {
     "name": "stdout",
     "output_type": "stream",
     "text": [
      "0    4.0\n",
      "1    4.0\n",
      "2    4.0\n",
      "3    2.0\n",
      "4    3.0\n",
      "dtype: float64\n"
     ]
    }
   ],
   "source": [
    "# compute media duration\n",
    "median_duration = (uncertainty['min_value'] + 4 * uncertainty['mode'] + uncertainty['max_value']) / 6\n",
    "print(median_duration)"
   ]
  },
  {
   "cell_type": "code",
   "execution_count": 10,
   "metadata": {},
   "outputs": [
    {
     "name": "stdout",
     "output_type": "stream",
     "text": [
      "0    0.333333\n",
      "1    0.666667\n",
      "2    0.333333\n",
      "3    0.333333\n",
      "4    0.666667\n",
      "dtype: float64\n"
     ]
    }
   ],
   "source": [
    "# compute standard deviation\n",
    "std_duration = (uncertainty['max_value'] - uncertainty['min_value']) / 6\n",
    "print(std_duration)"
   ]
  },
  {
   "cell_type": "code",
   "execution_count": 11,
   "metadata": {},
   "outputs": [
    {
     "name": "stdout",
     "output_type": "stream",
     "text": [
      "Edge from A to B has duration: 4.0\n",
      "Edge from A to C has duration: 4.0\n",
      "Edge from B to D has duration: 4.0\n",
      "Edge from C to D has duration: 2.0\n",
      "Edge from D to E has duration: 3.0\n"
     ]
    }
   ],
   "source": [
    "# create a new graph from my_graph using the media duration\n",
    "pert_graph = my_graph.copy()\n",
    "\n",
    "# Update each edge with the corresponding duration\n",
    "for i, (u, v, data) in enumerate(pert_graph.edges(data=True)):\n",
    "    data['duration'] = median_duration[i]\n",
    "\n",
    "# (Print each edge and its updated duration for verification\n",
    "for u, v, data in pert_graph.edges(data=True):\n",
    "    print(f\"Edge from {u} to {v} has duration: {data['duration']}\")"
   ]
  },
  {
   "cell_type": "code",
   "execution_count": 12,
   "metadata": {},
   "outputs": [
    {
     "name": "stdout",
     "output_type": "stream",
     "text": [
      "Longest path: ['A', 'B', 'D', 'E']\n",
      "project duration computed with median is 11 months\n"
     ]
    }
   ],
   "source": [
    "# print the longest path\n",
    "longest_path = nx.algorithms.dag.dag_longest_path(my_graph, weight='weight')\n",
    "print(\"Longest path:\", longest_path)\n",
    "\n",
    "# compute the longest path duration\n",
    "total_median_duration = nx.dag_longest_path_length(pert_graph)\n",
    "print('project duration computed with median is',total_median_duration,'months')"
   ]
  },
  {
   "cell_type": "code",
   "execution_count": 13,
   "metadata": {},
   "outputs": [
    {
     "name": "stdout",
     "output_type": "stream",
     "text": [
      "random variable Z: 1.224744871391589\n"
     ]
    }
   ],
   "source": [
    "# compute Z starting from a given contractual project duration\n",
    "contractual_duration = 12\n",
    "\n",
    "# square root of the sum the sqaure of the standard deviation of the activities on the critical path\n",
    "square_std = np.sqrt((std_duration[0])**2+(std_duration[2])**2+(std_duration[4])**2)\n",
    "\n",
    "# compute random Z\n",
    "random_z = (contractual_duration - total_median_duration) / square_std\n",
    "print('random variable Z:', random_z)"
   ]
  },
  {
   "cell_type": "code",
   "execution_count": 18,
   "metadata": {},
   "outputs": [
    {
     "name": "stdout",
     "output_type": "stream",
     "text": [
      "probability of meeting the contractual timeframe: 88.97%\n"
     ]
    }
   ],
   "source": [
    "\n",
    "# compute the probability of finishing befor the contractual duration\n",
    "# Compute the cumulative Gaussian using scipy\n",
    "p =  norm.cdf(random_z)\n",
    "\n",
    "print(f'probability of meeting the contractual timeframe: {p*100:.2f}%')\n"
   ]
  },
  {
   "cell_type": "markdown",
   "metadata": {},
   "source": [
    "# MC simulations"
   ]
  },
  {
   "cell_type": "code",
   "execution_count": 19,
   "metadata": {},
   "outputs": [
    {
     "data": {
      "text/html": [
       "<div>\n",
       "<style scoped>\n",
       "    .dataframe tbody tr th:only-of-type {\n",
       "        vertical-align: middle;\n",
       "    }\n",
       "\n",
       "    .dataframe tbody tr th {\n",
       "        vertical-align: top;\n",
       "    }\n",
       "\n",
       "    .dataframe thead th {\n",
       "        text-align: right;\n",
       "    }\n",
       "</style>\n",
       "<table border=\"1\" class=\"dataframe\">\n",
       "  <thead>\n",
       "    <tr style=\"text-align: right;\">\n",
       "      <th></th>\n",
       "      <th>min_value</th>\n",
       "      <th>mode</th>\n",
       "      <th>max_value</th>\n",
       "    </tr>\n",
       "  </thead>\n",
       "  <tbody>\n",
       "    <tr>\n",
       "      <th>0</th>\n",
       "      <td>3</td>\n",
       "      <td>4</td>\n",
       "      <td>5</td>\n",
       "    </tr>\n",
       "    <tr>\n",
       "      <th>1</th>\n",
       "      <td>2</td>\n",
       "      <td>4</td>\n",
       "      <td>6</td>\n",
       "    </tr>\n",
       "    <tr>\n",
       "      <th>2</th>\n",
       "      <td>3</td>\n",
       "      <td>4</td>\n",
       "      <td>5</td>\n",
       "    </tr>\n",
       "    <tr>\n",
       "      <th>3</th>\n",
       "      <td>1</td>\n",
       "      <td>2</td>\n",
       "      <td>3</td>\n",
       "    </tr>\n",
       "    <tr>\n",
       "      <th>4</th>\n",
       "      <td>1</td>\n",
       "      <td>3</td>\n",
       "      <td>5</td>\n",
       "    </tr>\n",
       "  </tbody>\n",
       "</table>\n",
       "</div>"
      ],
      "text/plain": [
       "   min_value  mode  max_value\n",
       "0          3     4          5\n",
       "1          2     4          6\n",
       "2          3     4          5\n",
       "3          1     2          3\n",
       "4          1     3          5"
      ]
     },
     "execution_count": 19,
     "metadata": {},
     "output_type": "execute_result"
    }
   ],
   "source": [
    "# define uncertainty in input\n",
    "uncertainty = pd.DataFrame([[3,4,5],\n",
    "                            [2,4,6],\n",
    "                            [3,4,5],\n",
    "                            [1,2,3],\n",
    "                            [1,3,5]])\n",
    "uncertainty.columns = ['min_value', 'mode', 'max_value']\n",
    "uncertainty.head()"
   ]
  },
  {
   "cell_type": "code",
   "execution_count": 20,
   "metadata": {},
   "outputs": [
    {
     "name": "stdout",
     "output_type": "stream",
     "text": [
      "same length\n"
     ]
    }
   ],
   "source": [
    "# check that my_grapf and duration has the same length\n",
    "if my_graph.number_of_edges() == len(uncertainty):\n",
    "    print('same length')\n",
    "else: print('check lengths')"
   ]
  },
  {
   "cell_type": "code",
   "execution_count": 21,
   "metadata": {},
   "outputs": [
    {
     "name": "stdout",
     "output_type": "stream",
     "text": [
      "Mean project duration: 11.048991718013376\n",
      "75th percentile project duration: 11.752096329026081\n",
      "90th percentile project duration: 12.300498348587682\n"
     ]
    }
   ],
   "source": [
    "edges = my_graph.edges\n",
    "\n",
    "# Number of simulation iterations\n",
    "num_simulations = 1000\n",
    "simulation_results = []\n",
    "longest_paths = []\n",
    "\n",
    "# Monte Carlo simulation\n",
    "for i in range(num_simulations):\n",
    "    # For each simulation, sample a duration for each edge\n",
    "    for idx, (u, v) in enumerate(edges):\n",
    "        # Extract the triangular distribution parameters from the uncertainty DataFrame\n",
    "        a = uncertainty.iloc[idx, 0]  # minimum value\n",
    "        c = uncertainty.iloc[idx, 1]  # mode (peak)\n",
    "        b = uncertainty.iloc[idx, 2]  # maximum value\n",
    "        \n",
    "        # Sample the duration from the triangular distribution\n",
    "        duration = np.random.triangular(a, c, b)\n",
    "        \n",
    "        # Update the graph's edge attribute with the sampled duration\n",
    "        my_graph[u][v]['duration'] = duration\n",
    "    \n",
    "    # Compute the longest (critical) path in the DAG\n",
    "    # nx.algorithms.dag.dag_longest_path returns the nodes along the longest path\n",
    "    longest_path = nx.algorithms.dag.dag_longest_path(my_graph, weight='duration')\n",
    "    longest_paths.append(longest_path)  # Memorize the longest path\n",
    "    \n",
    "    # Sum the durations along the longest path\n",
    "    total_duration = 0.0\n",
    "    for j in range(len(longest_path) - 1):\n",
    "        u, v = longest_path[j], longest_path[j + 1]\n",
    "        total_duration += my_graph[u][v]['duration']\n",
    "    \n",
    "    simulation_results.append(total_duration)\n",
    "\n",
    "# Analyze the simulation results\n",
    "mean_duration = np.mean(simulation_results)\n",
    "percentile_75 = np.percentile(simulation_results, 75)\n",
    "percentile_90 = np.percentile(simulation_results, 90)\n",
    "\n",
    "print(\"Mean project duration:\", mean_duration)\n",
    "print(\"75th percentile project duration:\", percentile_75)\n",
    "print(\"90th percentile project duration:\", percentile_90)"
   ]
  },
  {
   "cell_type": "code",
   "execution_count": 22,
   "metadata": {},
   "outputs": [
    {
     "data": {
      "image/png": "[encoded data removed]",
      "text/plain": [
       "<Figure size 1600x1000 with 1 Axes>"
      ]
     },
     "metadata": {},
     "output_type": "display_data"
    }
   ],
   "source": [
    "# plot the cumulative distribution of the duration of the project\n",
    "plt.figure(figsize=(16,10))\n",
    "\n",
    "plt.hist(simulation_results, bins=30, density=True, cumulative=True, edgecolor='black', histtype='stepfilled')\n",
    "plt.xlabel(\"Project Duration\")\n",
    "plt.ylabel(\"Cumulative Probability\")\n",
    "plt.title(\"Cumulative Distribution Function of Simulated Project Durations\")\n",
    "plt.grid(True)\n",
    "plt.show()"
   ]
  },
  {
   "cell_type": "code",
   "execution_count": null,
   "metadata": {},
   "outputs": [
    {
     "name": "stdout",
     "output_type": "stream",
     "text": [
      "Fraction of elements below 12: 82.0%\n"
     ]
    }
   ],
   "source": [
    "# Convert the list to a NumPy array for element-wise operations\n",
    "simulation_results = np.array(simulation_results)\n",
    "\n",
    "# Perform element-wise comparison\n",
    "mask = simulation_results < contractual_duration\n",
    "\n",
    "print(f\"Fraction of elements below {contractual_duration}: {np.mean(mask)*100:.1f}%\")"
   ]
  },
  {
   "cell_type": "code",
   "execution_count": null,
   "metadata": {},
   "outputs": [],
   "source": [
    "# find the unique longest paths\n",
    "unique_paths = set(tuple(path) for path in longest_paths)\n",
    "\n",
    "# count how many times each longest path appears\n",
    "unique_counts = Counter(tuple(path) for path in longest_paths)\n",
    "print(unique_counts)"
   ]
  },
  {
   "cell_type": "code",
   "execution_count": null,
   "metadata": {},
   "outputs": [],
   "source": [
    "# Create a bar chart\n",
    "plt.figure(figsize=(5, 3))\n",
    "plt.bar(range(len(unique_paths)), unique_counts.values())\n",
    "\n",
    "# Set x-tick labels to display the unique paths (convert tuples to strings)\n",
    "plt.xticks(range(len(unique_paths)), [str(path) for path in unique_paths], rotation=45, ha=\"right\")\n",
    "\n",
    "plt.xlabel(\"Longest Path\")\n",
    "plt.ylabel(\"Count\")\n",
    "plt.title(\"Frequency of Each Longest Path in MC Simulation\")\n",
    "plt.tight_layout()\n",
    "plt.show()"
   ]
  }
 ],
 "metadata": {
  "kernelspec": {
   "display_name": "venv",
   "language": "python",
   "name": "python3"
  },
  "language_info": {
   "codemirror_mode": {
    "name": "ipython",
    "version": 3
   },
   "file_extension": ".py",
   "mimetype": "text/x-python",
   "name": "python",
   "nbconvert_exporter": "python",
   "pygments_lexer": "ipython3",
   "version": "3.12.3"
  }
 },
 "nbformat": 4,
 "nbformat_minor": 2
}
